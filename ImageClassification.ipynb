{
 "cells": [
  {
   "cell_type": "code",
   "execution_count": null,
   "metadata": {},
   "outputs": [],
   "source": [
    "#pip install opencv-python==4.1.0.25"
   ]
  },
  {
   "cell_type": "code",
   "execution_count": 1,
   "metadata": {},
   "outputs": [],
   "source": [
    "import cv2\n",
    "import argparse\n",
    "import numpy as np"
   ]
  },
  {
   "cell_type": "code",
   "execution_count": 2,
   "metadata": {},
   "outputs": [],
   "source": [
    "# function to get the output layer names \n",
    "# in the architecture\n",
    "\n",
    "def get_output_layers(net):\n",
    "    layer_names = net.getLayerNames()\n",
    "    output_layers = [layer_names[i[0] - 1] for i in net.getUnconnectedOutLayers()]\n",
    "    return output_layers\n",
    "\n",
    "classes = None\n",
    "classes = open('darknet/data/coco.names').read().strip().split('\\n')\n",
    "    \n",
    "COLORS = np.random.uniform(0, 255, size=(len(classes), 3))\n",
    "# function to draw bounding box on the detected object with class name\n",
    "def draw_bounding_box(img, class_id, confidence, x, y, x_plus_w, y_plus_h,label,noOfcars):\n",
    "    color = COLORS[class_id]\n",
    "    cv2.rectangle(img, (x,y), (x_plus_w,y_plus_h), color, 2)\n",
    "    cv2.putText(img, label +\" \"+ str(round(confidence,2)) , (x-10,y-10), cv2.FONT_HERSHEY_SIMPLEX, 0.5, color, 2)\n",
    "\n",
    "#function to add text on image\n",
    "def text_on_image(img, class_id,noOfcars,fps):\n",
    "    color = COLORS[class_id]\n",
    "    cv2.putText(img, \"No:cars in frame: \" +str(noOfcars), (50,50), cv2.FONT_HERSHEY_SIMPLEX, 0.5, color, 2)\n",
    "    cv2.putText(img, \"FPS: \" +str(round(fps,2)), (30,30), cv2.FONT_HERSHEY_SIMPLEX, 0.5, color, 2)\n",
    "\n"
   ]
  },
  {
   "cell_type": "code",
   "execution_count": 3,
   "metadata": {},
   "outputs": [],
   "source": [
    "global COLORS\n",
    "# read pre-trained model and config file\n",
    "net = cv2.dnn.readNet('darknet/cfg/yolov3-tiny.cfg', 'darknet/cfg/yolov3-tiny.weights')\n",
    "def detectObject(img,frameNumber):\n",
    "    from keras.preprocessing import image\n",
    "    # read input image\n",
    "    img = img\n",
    "    Width = img.shape[1]\n",
    "    Height = img.shape[0]\n",
    "\n",
    "    scale = 0.00392\n",
    "\n",
    "    # read class names from text file\n",
    "    classes = None\n",
    "    classes = open('darknet/data/coco.names').read().strip().split('\\n')\n",
    "    \n",
    "    # generate different colors for different classes \n",
    "    COLORS = np.random.uniform(0, 255, size=(len(classes), 3))\n",
    "\n",
    "    # create input blob \n",
    "    blob = cv2.dnn.blobFromImage(img, scale, (416,416), (0,0,0), True, crop=False)\n",
    "\n",
    "    # set input blob for the network\n",
    "    net.setInput(blob)\n",
    "    # run inference through the network\n",
    "    # and gather predictions from output layers\n",
    "    outs = net.forward(get_output_layers(net))\n",
    "\n",
    "    # initialization\n",
    "    class_ids = []\n",
    "    confidences = []\n",
    "    boxes = []\n",
    "    conf_threshold = 0.5\n",
    "    nms_threshold = 0.4\n",
    "\n",
    "    # for each detetion from each output layer \n",
    "    # get the confidence, class id, bounding box params\n",
    "    # and ignore weak detections (confidence < 0.5)\n",
    "    for out in outs:\n",
    "        for detection in out:\n",
    "            scores = detection[5:]\n",
    "            class_id = np.argmax(scores)\n",
    "            confidence = scores[class_id]\n",
    "            if confidence > 0.5:\n",
    "                center_x = int(detection[0] * Width)\n",
    "                center_y = int(detection[1] * Height)\n",
    "                w = int(detection[2] * Width)\n",
    "                h = int(detection[3] * Height)\n",
    "                x = center_x - w / 2\n",
    "                y = center_y - h / 2\n",
    "                class_ids.append(class_id)\n",
    "                confidences.append(float(confidence))\n",
    "                boxes.append([x, y, w, h])\n",
    "                \n",
    "\n",
    "\n",
    "    # apply non-max suppression\n",
    "    indices = cv2.dnn.NMSBoxes(boxes, confidences, conf_threshold, nms_threshold)\n",
    "\n",
    "    # go through the detections remaining\n",
    "    # after nms and draw bounding box\n",
    "    \n",
    "    suv=0\n",
    "    sedan=0\n",
    "    for i in indices:\n",
    "        i = i[0]\n",
    "        box = boxes[i]\n",
    "        x = box[0]\n",
    "        y = box[1]\n",
    "        w = box[2]\n",
    "        h = box[3]\n",
    "        x = round(x)\n",
    "        y = round(y)\n",
    "        w = round(w)\n",
    "        h = round(h)\n",
    "        cropped = img[x:x+w, y:y+h]\n",
    "        labels={}\n",
    "        labels[0]=\"SEDAN\"\n",
    "        labels[1]=\"SUV\"\n",
    "        img_tensor = image.img_to_array(cropped)                    # (height, width, channels)\n",
    "        img_tensor = np.expand_dims(img_tensor, axis=0)         # (1, height, width, channels), add a dimension because the model expects this shape: (batch_size, height, width, channels)\n",
    "        img_tensor /= 255. \n",
    "        tb._SYMBOLIC_SCOPE.value=False\n",
    "        index = np.argmax(model.predict(img_tensor))\n",
    "        draw_bounding_box(img, class_ids[i], confidences[i], round(x), round(y), round(x+w), round(y+h),labels[index],len(indices))\n",
    "        \n",
    "        if labels[index]==\"SEDAN\":\n",
    "            sedan+=1\n",
    "        elif labels[index]==\"SUV\":\n",
    "            suv+=1\n",
    "\n",
    "    # release resources\n",
    "    elapsed_time = time.time() - starting_time\n",
    "    fps = frameNumber/elapsed_time\n",
    "    text_on_image(img, 1,len(indices),fps)\n",
    "    \n",
    "    \n",
    "    cv2.destroyAllWindows()\n",
    "    return img,sedan,suv,len(indices),round(fps,2)\n",
    "    "
   ]
  },
  {
   "cell_type": "code",
   "execution_count": 4,
   "metadata": {},
   "outputs": [
    {
     "name": "stderr",
     "output_type": "stream",
     "text": [
      "Using TensorFlow backend.\n"
     ]
    }
   ],
   "source": [
    "import keras\n",
    "from keras import backend as K\n",
    "from keras.layers.core import Dense, Activation\n",
    "from keras.optimizers import Adam\n",
    "from keras.metrics import categorical_crossentropy\n",
    "from keras.preprocessing.image import ImageDataGenerator\n",
    "from keras.preprocessing import image\n",
    "from keras.models import Model\n",
    "from keras.applications import imagenet_utils\n",
    "from keras.layers import Dense,GlobalAveragePooling2D\n",
    "from keras.applications import MobileNet\n",
    "from keras.applications.mobilenet import preprocess_input\n",
    "import numpy as np\n",
    "from IPython.display import Image\n",
    "from keras.optimizers import Adam\n",
    "import keras.backend.tensorflow_backend as tb"
   ]
  },
  {
   "cell_type": "code",
   "execution_count": 5,
   "metadata": {},
   "outputs": [],
   "source": [
    "mobile = keras.applications.mobilenet.MobileNet()\n",
    "def prepare_image(file):\n",
    "    img_path = ''\n",
    "    img = image.load_img(img_path + file, target_size=(224, 224))\n",
    "    img_array = image.img_to_array(img)\n",
    "    img_array_expanded_dims = np.expand_dims(img_array, axis=0)\n",
    "    return keras.applications.mobilenet.preprocess_input(img_array_expanded_dims)"
   ]
  },
  {
   "cell_type": "code",
   "execution_count": null,
   "metadata": {},
   "outputs": [],
   "source": [
    "#Code to check predictions from original Mobilenet model\n",
    "# preprocessed_image = prepare_image('output/frame0.jpg')\n",
    "# predictions = mobile.predict(preprocessed_image)\n",
    "# results = imagenet_utils.decode_predictions(predictions)\n",
    "# results"
   ]
  },
  {
   "cell_type": "code",
   "execution_count": null,
   "metadata": {},
   "outputs": [],
   "source": [
    "base_model=MobileNet(weights='imagenet',include_top=False) #imports the mobilenet model and discards the last 1000 neuron layer.\n",
    "\n",
    "x=base_model.output\n",
    "x=GlobalAveragePooling2D()(x)\n",
    "x=Dense(1024,activation='relu')(x) #we add dense layers so that the model can learn more complex functions and classify for better results.\n",
    "x=Dense(1024,activation='relu')(x) #dense layer 2\n",
    "x=Dense(512,activation='relu')(x) #dense layer 3\n",
    "preds=Dense(2,activation='sigmoid')(x) #final layer with softmax activation\n",
    "# preds=Dense(2,activation='softmax')(x) #final layer with softmax activation"
   ]
  },
  {
   "cell_type": "code",
   "execution_count": null,
   "metadata": {},
   "outputs": [],
   "source": [
    "model=Model(inputs=base_model.input,outputs=preds)"
   ]
  },
  {
   "cell_type": "code",
   "execution_count": null,
   "metadata": {},
   "outputs": [],
   "source": [
    "#Code to see layer details in model\n",
    "# for i,layer in enumerate(model.layers):\n",
    "#     print(i,layer.name)"
   ]
  },
  {
   "cell_type": "code",
   "execution_count": null,
   "metadata": {},
   "outputs": [],
   "source": [
    "for layer in model.layers:\n",
    "    layer.trainable=False\n",
    "# or if we want to set the first 20 layers of the network to be non-trainable\n",
    "for layer in model.layers[:20]:\n",
    "    layer.trainable=False\n",
    "for layer in model.layers[20:]:\n",
    "    layer.trainable=True"
   ]
  },
  {
   "cell_type": "code",
   "execution_count": null,
   "metadata": {},
   "outputs": [],
   "source": [
    "import tensorflow as tf\n",
    "#importing training images split as train and test, image resized to 224,224 \n",
    "image_generator = tf.keras.preprocessing.image.ImageDataGenerator(validation_split=0.2,preprocessing_function=preprocess_input)\n",
    "X_train = image_generator.flow_from_directory(directory='Images',\n",
    "                                                     batch_size=32,\n",
    "                                                     shuffle=True,\n",
    "                                                     target_size=(224, 224),\n",
    "                                                      subset=\"training\",\n",
    "                                                      class_mode='categorical')\n",
    "label = (X_train.class_indices)\n",
    "print(label)\n",
    "X_test = image_generator.flow_from_directory(directory='Images',\n",
    "                                                     batch_size=32,\n",
    "                                                     shuffle=True,\n",
    "                                                     target_size=(224, 224),\n",
    "                                                     class_mode='categorical',\n",
    "                                                     subset=\"validation\")\n",
    "\n",
    "label_t = (X_test.class_indices)\n",
    "print(label_t)\n",
    "labels={}\n",
    "labels[0]=\"SEDAN\"\n",
    "labels[1]=\"SUV\"\n",
    "\n",
    "\n"
   ]
  },
  {
   "cell_type": "code",
   "execution_count": null,
   "metadata": {},
   "outputs": [],
   "source": [
    "# Adam optimizer\n",
    "# loss function categorical cross entropy\n",
    "# evaluation metrics accuracy\n",
    "model.compile(optimizer='Adam',loss='binary_crossentropy',metrics=['accuracy'])\n",
    "\n",
    "history = model.fit(X_train,\n",
    "                    epochs=10,\n",
    "                    validation_data=X_test)"
   ]
  },
  {
   "cell_type": "code",
   "execution_count": null,
   "metadata": {},
   "outputs": [],
   "source": [
    "#average Validation accuracy\n",
    "print(\"Validation Accuracy of Trained model: \",np.mean(history.history['val_accuracy']))"
   ]
  },
  {
   "cell_type": "code",
   "execution_count": null,
   "metadata": {},
   "outputs": [],
   "source": [
    "model.save('mobileNetv1.h5')"
   ]
  },
  {
   "cell_type": "code",
   "execution_count": 6,
   "metadata": {},
   "outputs": [],
   "source": [
    "# model.load('mobileNetv1.h5')\n",
    "model = keras.models.load_model('mobileNetv1.h5')"
   ]
  },
  {
   "cell_type": "code",
   "execution_count": 7,
   "metadata": {},
   "outputs": [],
   "source": [
    "from threading import Thread, Condition\n",
    "import time\n",
    "import random\n",
    "import pandas as pd\n",
    "\n",
    "condition = Condition()\n",
    "queue = []\n",
    "\n",
    "class ConsumerThread(Thread):\n",
    "    def run(self):\n",
    "        global queue\n",
    "        global starting_time\n",
    "        global elapsed_time\n",
    "        i=0\n",
    "        frameNo=[]\n",
    "        carCount=[]\n",
    "        sedan=[]\n",
    "        suv=[]\n",
    "        fps_l=[]\n",
    "        while True:\n",
    "            try:\n",
    "\n",
    "                condition.acquire()\n",
    "                if not queue:\n",
    "                    #print (\"Nothing in queue, consumer is waiting\")\n",
    "                    condition.wait()\n",
    "                    #print (\"Producer added something to queue and notified the consumer\")\n",
    "                img = queue.pop(0)\n",
    "                output,sedanC,suvC,carC,fps=detectObject(img,i)\n",
    "                frameNo.append(i+1)\n",
    "                sedan.append(sedanC)\n",
    "                suv.append(suvC)\n",
    "                carCount.append(carC)\n",
    "                fps_l.append(fps)\n",
    "                cv2.imwrite(\"output/frame%d.jpg\"%i, output)\n",
    "                i+=1\n",
    "                #print (\"Consumed\")\n",
    "                condition.release()\n",
    "                #time.sleep(random.random())\n",
    "            except AttributeError:\n",
    "                break;\n",
    "        elapsed_time = time.time() - starting_time\n",
    "        print(\"Total Pipeline Time: \",elapsed_time)\n",
    "        frame = cv2.imread(\"output/frame0.jpg\")\n",
    "        height, width, layers = frame.shape\n",
    "        fourcc = cv2.VideoWriter_fourcc(*'MP4V')\n",
    "        video_name = 'output.mp4'\n",
    "        video = cv2.VideoWriter(video_name, fourcc, 30.0, (width,height))\n",
    "\n",
    "        for i in range(i+1):\n",
    "            video.write(cv2.imread(\"output/frame%d.jpg\"%i)) \n",
    "        video.release()\n",
    "        list_of_tuples = list(zip(frameNo, sedan,suv,carCount,fps_l))\n",
    "        df = pd.DataFrame(list_of_tuples, \n",
    "                  columns = ['Frame#', 'SEDAN','SUV','Total',\"Output FPS\"])\n",
    "        df.to_csv('output.csv')\n",
    "    \n",
    "         "
   ]
  },
  {
   "cell_type": "code",
   "execution_count": 8,
   "metadata": {
    "scrolled": true
   },
   "outputs": [],
   "source": [
    "class ProducerThread(Thread):\n",
    "    def run(self):\n",
    "        global queue\n",
    "        vidcap = cv2.VideoCapture('darknet/data/assignment-clip.mp4')\n",
    "        success,img = vidcap.read()\n",
    "        count = 0\n",
    "        while success:\n",
    "            condition.acquire()     \n",
    "            success,img = vidcap.read()\n",
    "            queue.append(img)\n",
    "            count += 1\n",
    "            #print (\"Produced\")\n",
    "            condition.notify()\n",
    "            condition.release()\n",
    "            time.sleep(0.001)\n",
    "            "
   ]
  },
  {
   "cell_type": "code",
   "execution_count": 9,
   "metadata": {},
   "outputs": [
    {
     "name": "stdout",
     "output_type": "stream",
     "text": [
      "Total Pipeline Time:  47.138108015060425\n"
     ]
    }
   ],
   "source": [
    "global starting_time\n",
    "\n",
    "#start producer and consumer thread, prints total pipeline time on completion\n",
    "starting_time = time.time()\n",
    "ProducerThread().start()\n",
    "ConsumerThread().start()"
   ]
  },
  {
   "cell_type": "code",
   "execution_count": 10,
   "metadata": {},
   "outputs": [],
   "source": [
    "from sklearn.metrics import f1_score\n",
    "\n",
    "\n",
    "output=pd.read_csv('output.csv')\n",
    "ytrue=pd.read_csv('groundtruth.csv')\n",
    "\n",
    "#output[\"Total\"]=output.apply(lambda row: row.SEDAN + row.SUV, axis=1)\n",
    "output = output[['Frame#', 'SEDAN', 'SUV','Total','Output FPS']].copy()\n",
    "ytrue.drop(ytrue[ytrue['Frame#'] == 900].index, inplace=True)"
   ]
  },
  {
   "cell_type": "code",
   "execution_count": 12,
   "metadata": {},
   "outputs": [
    {
     "data": {
      "image/png": "[encoded data removed]",
      "text/plain": [
       "<Figure size 432x288 with 1 Axes>"
      ]
     },
     "metadata": {
      "needs_background": "light"
     },
     "output_type": "display_data"
    }
   ],
   "source": [
    "import matplotlib.pyplot as plt\n",
    "plt.plot(output['Frame#'],output['Output FPS'])\n",
    "plt.title('Output Rate For Pipeline')\n",
    "plt.xlabel('Frame #')\n",
    "plt.ylabel('OutputFPS')\n",
    "plt.show()"
   ]
  },
  {
   "cell_type": "code",
   "execution_count": 13,
   "metadata": {},
   "outputs": [
    {
     "name": "stdout",
     "output_type": "stream",
     "text": [
      "Average Throughput (in FPS):  18.83\n",
      "Average Time taken to process each frame (in Seconds):  0.053\n"
     ]
    }
   ],
   "source": [
    "#Average throughput in FPS\n",
    "print(\"Average Throughput (in FPS): \",round(output['Output FPS'].mean(),2))\n",
    "\n",
    "#Time taken for each frame\n",
    "print(\"Average Time taken to process each frame (in Seconds): \",round(1/output['Output FPS'].mean(),3))"
   ]
  },
  {
   "cell_type": "code",
   "execution_count": 14,
   "metadata": {},
   "outputs": [],
   "source": [
    "#Calculating F1 score for Q1\n",
    "#precision is given by TP/(TP+FP)\n",
    "#TP is Total from output file, FP is 0 as we can see from video that there are no incorrect positives\n",
    "#output['Total']/output['Total'] will always be equal to 1 in our case\n",
    "#for Recall is given by TP/(TP+FN) - which will be output['total']/ytrue['total']\n",
    "precision=output['Total']/output['Total']\n",
    "recall=output['Total']/ytrue['Total']\n",
    "#f1=2*p*r/(p+r)"
   ]
  },
  {
   "cell_type": "code",
   "execution_count": 15,
   "metadata": {},
   "outputs": [],
   "source": [
    "#Mean average precision\n",
    "MAP=precision.mean()\n",
    "MAR=recall.mean()"
   ]
  },
  {
   "cell_type": "code",
   "execution_count": 16,
   "metadata": {},
   "outputs": [],
   "source": [
    "f1_objectdetection=2*MAP*MAR/(MAP+MAR)"
   ]
  },
  {
   "cell_type": "code",
   "execution_count": 17,
   "metadata": {},
   "outputs": [
    {
     "name": "stdout",
     "output_type": "stream",
     "text": [
      "F1 Score for object detection:  0.8372368747238063\n"
     ]
    }
   ],
   "source": [
    "print(\"F1 Score for object detection: \", f1_objectdetection)"
   ]
  },
  {
   "cell_type": "code",
   "execution_count": 18,
   "metadata": {},
   "outputs": [],
   "source": [
    "#F1 for classification Q2\n",
    "#Assumptions made for calculating TP,FP,FN values\n",
    "#pseudo code\n",
    "# if output == groundtruth\n",
    "#    TP=output\n",
    "#.elseif output>groundtruth\n",
    "#.   TP=groundtruth\n",
    "# else\n",
    "#.   TP=output\n",
    "\n",
    "TPSed=np.where(output['SEDAN']==ytrue['Sedan'], output['SEDAN'], np.where(output['SEDAN']>ytrue['Sedan'],ytrue['Sedan'],output['SEDAN']))\n",
    "TPSUV=np.where(output['SUV']==ytrue['SUV'], output['SUV'], np.where(output['SUV']>ytrue['SUV'],ytrue['SUV'],output['SUV']))\n",
    "\n",
    "\n",
    "# if output == groundtruth\n",
    "#    FP=0\n",
    "#.elseif output>groundtruth\n",
    "#.   FP=output-groundtruth\n",
    "# else\n",
    "#.   FP=0\n",
    "\n",
    "FPSed=np.where(output['SEDAN']==ytrue['Sedan'], 0, np.where(output['SEDAN']>ytrue['Sedan'],output['SEDAN']-ytrue['Sedan'],0))\n",
    "FPSUV=np.where(output['SUV']==ytrue['SUV'], 0, np.where(output['SUV']>ytrue['SUV'],output['SUV']-ytrue['SUV'],0))\n",
    "\n",
    "\n",
    "# if output == groundtruth\n",
    "#    FN=0\n",
    "#.elseif output<groundtruth\n",
    "#.   FN=groundtruth-output\n",
    "# else\n",
    "#.   FN=0\n",
    "\n",
    "FNSed = np.where(output['SEDAN']==ytrue['Sedan'], 0, np.where(output['SEDAN']<ytrue['Sedan'],ytrue['Sedan']-output['SEDAN'],0))\n",
    "FNSUV = np.where(output['SUV']==ytrue['SUV'], 0, np.where(output['SUV']<ytrue['SUV'],ytrue['SUV']-output['SUV'],0))\n",
    "\n",
    "\n",
    "\n",
    "\n"
   ]
  },
  {
   "cell_type": "code",
   "execution_count": 19,
   "metadata": {},
   "outputs": [
    {
     "name": "stderr",
     "output_type": "stream",
     "text": [
      "/Users/suryavikram/opt/anaconda3/lib/python3.7/site-packages/ipykernel_launcher.py:1: RuntimeWarning: invalid value encountered in true_divide\n",
      "  \"\"\"Entry point for launching an IPython kernel.\n"
     ]
    }
   ],
   "source": [
    "precision_q2=(TPSed+TPSUV)/(TPSed+TPSUV+FPSed+FPSUV)\n",
    "recall_q2=(TPSed+TPSUV)/(TPSed+TPSUV+FNSed+FNSUV)"
   ]
  },
  {
   "cell_type": "code",
   "execution_count": 20,
   "metadata": {},
   "outputs": [],
   "source": [
    "# Calculating Mean Average Precision and mean average recall\n",
    "MAP_q2=np.nanmean(precision_q2)\n",
    "MAR_q2=np.nanmean(recall_q2)"
   ]
  },
  {
   "cell_type": "code",
   "execution_count": 21,
   "metadata": {},
   "outputs": [],
   "source": [
    "f1_classification=2*MAP_q2*MAR_q2/(MAP_q2+MAR_q2)"
   ]
  },
  {
   "cell_type": "code",
   "execution_count": 22,
   "metadata": {},
   "outputs": [
    {
     "name": "stdout",
     "output_type": "stream",
     "text": [
      "F1 Score for Classification:  0.5284187840521777\n"
     ]
    }
   ],
   "source": [
    "print(\"F1 Score for Classification: \", f1_classification)"
   ]
  }
 ],
 "metadata": {
  "kernelspec": {
   "display_name": "Python 3",
   "language": "python",
   "name": "python3"
  },
  "language_info": {
   "codemirror_mode": {
    "name": "ipython",
    "version": 3
   },
   "file_extension": ".py",
   "mimetype": "text/x-python",
   "name": "python",
   "nbconvert_exporter": "python",
   "pygments_lexer": "ipython3",
   "version": "3.7.4"
  }
 },
 "nbformat": 4,
 "nbformat_minor": 2
}
